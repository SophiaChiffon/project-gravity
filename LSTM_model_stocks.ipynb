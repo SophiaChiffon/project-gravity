{
  "nbformat": 4,
  "nbformat_minor": 0,
  "metadata": {
    "colab": {
      "provenance": []
    },
    "kernelspec": {
      "name": "python3",
      "display_name": "Python 3"
    },
    "language_info": {
      "name": "python"
    }
  },
  "cells": [
    {
      "cell_type": "code",
      "execution_count": 1,
      "metadata": {
        "id": "KiK4FMnKmTQd"
      },
      "outputs": [],
      "source": [
        "import numpy as np\n",
        "import pandas as pd\n",
        "import matplotlib.pyplot as plt\n",
        "import datetime as dt\n",
        "from datetime import datetime\n",
        "\n",
        "from keras.callbacks import EarlyStopping, ReduceLROnPlateau, ModelCheckpoint, TensorBoard\n",
        "\n",
        "%matplotlib inline"
      ]
    },
    {
      "cell_type": "code",
      "source": [
        "## Read Data\n",
        "dataset_train = pd.read_csv('GOOG.csv')\n",
        "cols = list(dataset_train)[1:6]\n",
        "datelist_train = list(dataset_train['Date'])\n",
        "datelist_train = [dt.datetime.strptime(date, '%Y-%m-%d').date() for date in datelist_train]\n",
        "\n",
        "print('Training set shape == {}'.format(dataset_train.shape))\n",
        "print('All timestampes == {}'.format(len(datelist_train)))\n",
        "print('Feature selected: {}'.format(cols))"
      ],
      "metadata": {
        "colab": {
          "base_uri": "https://localhost:8080/"
        },
        "id": "SI6w4C1XnBMl",
        "outputId": "53a7c79c-2024-4872-92eb-4e0deb4fc9de"
      },
      "execution_count": 2,
      "outputs": [
        {
          "output_type": "stream",
          "name": "stdout",
          "text": [
            "Training set shape == (4006, 7)\n",
            "All timestampes == 4006\n",
            "Feature selected: ['Open', 'High', 'Low', 'Close', 'Adj Close']\n"
          ]
        }
      ]
    },
    {
      "cell_type": "code",
      "source": [
        "## Data pre-processing\n",
        "#dataset_train.head()\n",
        "dataset_train = dataset_train[cols].astype(str)\n",
        "for i in cols:\n",
        "  for j in range(0, len(dataset_train)):\n",
        "    dataset_train[i][j] = dataset_train[i][j].replace(',','')\n",
        "dataset_train = dataset_train.astype(float)\n",
        "\n",
        "training_set = dataset_train.to_numpy()\n",
        "\n",
        "print('Shape of training set =={}'.format(training_set.shape))\n",
        "training_set"
      ],
      "metadata": {
        "colab": {
          "base_uri": "https://localhost:8080/"
        },
        "id": "qmHRmE7goIAM",
        "outputId": "3e3a265c-4e57-4379-f0de-99b341353b4a"
      },
      "execution_count": 3,
      "outputs": [
        {
          "output_type": "stream",
          "name": "stdout",
          "text": [
            "Shape of training set ==(4006, 5)\n"
          ]
        },
        {
          "output_type": "execute_result",
          "data": {
            "text/plain": [
              "array([[  49.813286,   51.835709,   47.800831,   49.982655,   49.982655],\n",
              "       [  50.316402,   54.336334,   50.062355,   53.95277 ,   53.95277 ],\n",
              "       [  55.168217,   56.528118,   54.321388,   54.495735,   54.495735],\n",
              "       ...,\n",
              "       [1523.130005, 1535.329956, 1498.      , 1513.640015, 1513.640015],\n",
              "       [1500.      , 1518.689941, 1486.310059, 1518.      , 1518.      ],\n",
              "       [1521.619995, 1523.439941, 1498.420044, 1515.550049, 1515.550049]])"
            ]
          },
          "metadata": {},
          "execution_count": 3
        }
      ]
    },
    {
      "cell_type": "code",
      "source": [
        "## feature scaling\n",
        "from sklearn.preprocessing import StandardScaler\n",
        "sc = StandardScaler()\n",
        "training_set_scaled = sc.fit_transform(training_set)\n",
        "sc_predict = StandardScaler()\n",
        "sc_predict.fit_transform(training_set[:,0:1])"
      ],
      "metadata": {
        "colab": {
          "base_uri": "https://localhost:8080/"
        },
        "id": "xr9J0aOvoM9s",
        "outputId": "5aee2d48-d53e-45d6-c48c-12314b1baca7"
      },
      "execution_count": 4,
      "outputs": [
        {
          "output_type": "execute_result",
          "data": {
            "text/plain": [
              "array([[-1.27195197],\n",
              "       [-1.27058974],\n",
              "       [-1.25745309],\n",
              "       ...,\n",
              "       [ 2.71716347],\n",
              "       [ 2.65453724],\n",
              "       [ 2.713075  ]])"
            ]
          },
          "metadata": {},
          "execution_count": 4
        }
      ]
    },
    {
      "cell_type": "code",
      "source": [
        "# Creating a data structure with 90 timestamps and 1 output\n",
        "X_train = []\n",
        "y_train = []\n",
        "\n",
        "n_future = 60\n",
        "n_past = 90\n",
        "# we want to use past 90 days to predict future 60 day's prices\n",
        "\n",
        "for i in range(n_past, len(training_set_scaled)-n_future+1):\n",
        "  X_train.append(training_set_scaled[i-n_past:i, 0:dataset_train.shape[1]-1])\n",
        "  y_train.append(training_set_scaled[i+n_future-1:i+n_future,0])\n",
        "\n",
        "X_train, y_train = np.array(X_train), np.array(y_train)\n",
        "\n",
        "print('X_train shape == {}.'.format(X_train.shape))\n",
        "print('y_train shape == {}.'.format(y_train.shape))"
      ],
      "metadata": {
        "colab": {
          "base_uri": "https://localhost:8080/"
        },
        "id": "EdlpJjKsr2OP",
        "outputId": "a3475fe3-7c39-4596-a32a-f713da330715"
      },
      "execution_count": 5,
      "outputs": [
        {
          "output_type": "stream",
          "name": "stdout",
          "text": [
            "X_train shape == (3857, 90, 4).\n",
            "y_train shape == (3857, 1).\n"
          ]
        }
      ]
    },
    {
      "cell_type": "code",
      "source": [
        "## LSTM based NN\n",
        "from keras.models import Sequential\n",
        "from keras.layers import Dense\n",
        "from keras.layers import LSTM\n",
        "from keras.layers import Dropout\n",
        "from keras.optimizers import Adam"
      ],
      "metadata": {
        "id": "nqadrO4SuXU-"
      },
      "execution_count": 6,
      "outputs": []
    },
    {
      "cell_type": "code",
      "source": [
        "model = Sequential()\n",
        "model.add(LSTM(units=64, return_sequences=True, input_shape=(n_past,dataset_train.shape[1]-1)))\n",
        "model.add(LSTM(units=10, return_sequences= False))\n",
        "model.add(Dropout(0.25))\n",
        "model.add(Dense(units=1,activation ='linear'))\n",
        "model.compile(optimizer=Adam(learning_rate = 0.01), loss='mean_squared_error')"
      ],
      "metadata": {
        "id": "_eh1lcJruqGr"
      },
      "execution_count": 7,
      "outputs": []
    },
    {
      "cell_type": "code",
      "source": [
        "%%time\n",
        "es = EarlyStopping(monitor='val_loss', min_delta = 1e-10, patience=10, verbose=1)\n",
        "rlr = ReduceLROnPlateau(monitor ='val_loss', factor=0.5, patience=10, verbose=1)\n",
        "mcp = ModelCheckpoint(filepath='weights.h5', monitor='val_loss', verbose=1, save_best_only=True, save_weights_only=True)\n",
        "\n",
        "tb = TensorBoard('logs')\n",
        "\n",
        "history = model.fit(X_train, y_train, shuffle =True, epochs=30, callbacks=[es,rlr,mcp,tb], validation_split=0.2, verbose=1, batch_size=256)"
      ],
      "metadata": {
        "colab": {
          "base_uri": "https://localhost:8080/"
        },
        "id": "34IB0vV7vvVU",
        "outputId": "12aa739e-1707-45d6-cf1b-ca5d149cd906"
      },
      "execution_count": 8,
      "outputs": [
        {
          "output_type": "stream",
          "name": "stdout",
          "text": [
            "Epoch 1/30\n",
            "13/13 [==============================] - ETA: 0s - loss: 0.1522\n",
            "Epoch 1: val_loss improved from inf to 0.33766, saving model to weights.h5\n",
            "13/13 [==============================] - 8s 323ms/step - loss: 0.1522 - val_loss: 0.3377 - lr: 0.0100\n",
            "Epoch 2/30\n",
            "13/13 [==============================] - ETA: 0s - loss: 0.0419\n",
            "Epoch 2: val_loss did not improve from 0.33766\n",
            "13/13 [==============================] - 5s 373ms/step - loss: 0.0419 - val_loss: 0.4520 - lr: 0.0100\n",
            "Epoch 3/30\n",
            "13/13 [==============================] - ETA: 0s - loss: 0.0370\n",
            "Epoch 3: val_loss improved from 0.33766 to 0.16196, saving model to weights.h5\n",
            "13/13 [==============================] - 3s 257ms/step - loss: 0.0370 - val_loss: 0.1620 - lr: 0.0100\n",
            "Epoch 4/30\n",
            "13/13 [==============================] - ETA: 0s - loss: 0.0363\n",
            "Epoch 4: val_loss improved from 0.16196 to 0.13607, saving model to weights.h5\n",
            "13/13 [==============================] - 3s 231ms/step - loss: 0.0363 - val_loss: 0.1361 - lr: 0.0100\n",
            "Epoch 5/30\n",
            "13/13 [==============================] - ETA: 0s - loss: 0.0319\n",
            "Epoch 5: val_loss improved from 0.13607 to 0.09582, saving model to weights.h5\n",
            "13/13 [==============================] - 3s 231ms/step - loss: 0.0319 - val_loss: 0.0958 - lr: 0.0100\n",
            "Epoch 6/30\n",
            "13/13 [==============================] - ETA: 0s - loss: 0.0305\n",
            "Epoch 6: val_loss did not improve from 0.09582\n",
            "13/13 [==============================] - 5s 399ms/step - loss: 0.0305 - val_loss: 0.1162 - lr: 0.0100\n",
            "Epoch 7/30\n",
            "13/13 [==============================] - ETA: 0s - loss: 0.0291\n",
            "Epoch 7: val_loss did not improve from 0.09582\n",
            "13/13 [==============================] - 3s 229ms/step - loss: 0.0291 - val_loss: 0.1145 - lr: 0.0100\n",
            "Epoch 8/30\n",
            "13/13 [==============================] - ETA: 0s - loss: 0.0283\n",
            "Epoch 8: val_loss improved from 0.09582 to 0.08754, saving model to weights.h5\n",
            "13/13 [==============================] - 4s 283ms/step - loss: 0.0283 - val_loss: 0.0875 - lr: 0.0100\n",
            "Epoch 9/30\n",
            "13/13 [==============================] - ETA: 0s - loss: 0.0290\n",
            "Epoch 9: val_loss did not improve from 0.08754\n",
            "13/13 [==============================] - 3s 260ms/step - loss: 0.0290 - val_loss: 0.0938 - lr: 0.0100\n",
            "Epoch 10/30\n",
            "13/13 [==============================] - ETA: 0s - loss: 0.0259\n",
            "Epoch 10: val_loss did not improve from 0.08754\n",
            "13/13 [==============================] - 4s 337ms/step - loss: 0.0259 - val_loss: 0.1398 - lr: 0.0100\n",
            "Epoch 11/30\n",
            "13/13 [==============================] - ETA: 0s - loss: 0.0296\n",
            "Epoch 11: val_loss did not improve from 0.08754\n",
            "13/13 [==============================] - 3s 230ms/step - loss: 0.0296 - val_loss: 0.1158 - lr: 0.0100\n",
            "Epoch 12/30\n",
            "13/13 [==============================] - ETA: 0s - loss: 0.0283\n",
            "Epoch 12: val_loss did not improve from 0.08754\n",
            "13/13 [==============================] - 3s 234ms/step - loss: 0.0283 - val_loss: 0.0966 - lr: 0.0100\n",
            "Epoch 13/30\n",
            "13/13 [==============================] - ETA: 0s - loss: 0.0267\n",
            "Epoch 13: val_loss did not improve from 0.08754\n",
            "13/13 [==============================] - 3s 259ms/step - loss: 0.0267 - val_loss: 0.1024 - lr: 0.0100\n",
            "Epoch 14/30\n",
            "13/13 [==============================] - ETA: 0s - loss: 0.0277\n",
            "Epoch 14: val_loss did not improve from 0.08754\n",
            "13/13 [==============================] - 4s 333ms/step - loss: 0.0277 - val_loss: 0.1716 - lr: 0.0100\n",
            "Epoch 15/30\n",
            "13/13 [==============================] - ETA: 0s - loss: 0.0255\n",
            "Epoch 15: val_loss did not improve from 0.08754\n",
            "13/13 [==============================] - 3s 236ms/step - loss: 0.0255 - val_loss: 0.1602 - lr: 0.0100\n",
            "Epoch 16/30\n",
            "13/13 [==============================] - ETA: 0s - loss: 0.0258\n",
            "Epoch 16: val_loss did not improve from 0.08754\n",
            "13/13 [==============================] - 3s 231ms/step - loss: 0.0258 - val_loss: 0.0990 - lr: 0.0100\n",
            "Epoch 17/30\n",
            "13/13 [==============================] - ETA: 0s - loss: 0.0286\n",
            "Epoch 17: val_loss did not improve from 0.08754\n",
            "13/13 [==============================] - 3s 232ms/step - loss: 0.0286 - val_loss: 0.0912 - lr: 0.0100\n",
            "Epoch 18/30\n",
            "13/13 [==============================] - ETA: 0s - loss: 0.0271\n",
            "Epoch 18: ReduceLROnPlateau reducing learning rate to 0.004999999888241291.\n",
            "\n",
            "Epoch 18: val_loss did not improve from 0.08754\n",
            "13/13 [==============================] - 5s 359ms/step - loss: 0.0271 - val_loss: 0.1480 - lr: 0.0100\n",
            "Epoch 18: early stopping\n",
            "CPU times: user 1min 32s, sys: 6.13 s, total: 1min 38s\n",
            "Wall time: 1min 9s\n"
          ]
        }
      ]
    },
    {
      "cell_type": "code",
      "source": [
        "## Make predictions\n",
        "datelist_future = pd.date_range(datelist_train[-1], periods=n_future, freq='1d').tolist()\n",
        "datelist_future_ = []\n",
        "for this_timestamp in datelist_future:\n",
        "  datelist_future_.append(this_timestamp.date())\n",
        "print(datelist_future_[:5])\n",
        "print(datelist_train[-1])"
      ],
      "metadata": {
        "colab": {
          "base_uri": "https://localhost:8080/"
        },
        "id": "99YsVHBKxT-8",
        "outputId": "b33cb7a2-58ba-456d-9981-4b48f5cd3cac"
      },
      "execution_count": 9,
      "outputs": [
        {
          "output_type": "stream",
          "name": "stdout",
          "text": [
            "[datetime.date(2020, 7, 17), datetime.date(2020, 7, 18), datetime.date(2020, 7, 19), datetime.date(2020, 7, 20), datetime.date(2020, 7, 21)]\n",
            "2020-07-17\n"
          ]
        }
      ]
    },
    {
      "cell_type": "code",
      "source": [
        "predictions_future = model.predict(X_train[-n_future:])\n",
        "predictions_train = model.predict(X_train[n_past:])"
      ],
      "metadata": {
        "colab": {
          "base_uri": "https://localhost:8080/"
        },
        "id": "KMLSaRc5yTD8",
        "outputId": "227168d5-c47c-4b02-e10b-493a5d29254d"
      },
      "execution_count": 10,
      "outputs": [
        {
          "output_type": "stream",
          "name": "stdout",
          "text": [
            "2/2 [==============================] - 1s 28ms/step\n",
            "118/118 [==============================] - 3s 21ms/step\n"
          ]
        }
      ]
    },
    {
      "cell_type": "code",
      "source": [
        "def datetime_to_timestamp(x):\n",
        "  return datetime.strptime(x.strftime('%Y%m%d'),'%Y%m%d')\n",
        "\n",
        "y_pred_future = sc_predict.inverse_transform(predictions_future)\n",
        "y_pred_train = sc_predict.inverse_transform(predictions_train)\n",
        "\n",
        "PREDICTIONS_FUTURE = pd.DataFrame(y_pred_future, columns=['Open']).set_index(pd.Series(datelist_future))\n",
        "PREDICTION_TRAIN = pd.DataFrame(y_pred_train, columns=['Open']).set_index(pd.Series(datelist_train[2 * n_past + n_future -1:]))\n",
        "\n",
        "# Convert <datetime.date> to <Timestamp> for PREDCITION_TRAIN\n",
        "PREDICTION_TRAIN.index = PREDICTION_TRAIN.index.to_series().apply(datetime_to_timestamp)\n",
        "\n",
        "PREDICTION_TRAIN.head(3)"
      ],
      "metadata": {
        "colab": {
          "base_uri": "https://localhost:8080/",
          "height": 144
        },
        "id": "0aTIXpoBy5kx",
        "outputId": "617d3090-4d63-45e1-88ba-9df115e74473"
      },
      "execution_count": 11,
      "outputs": [
        {
          "output_type": "execute_result",
          "data": {
            "text/plain": [
              "                  Open\n",
              "2005-08-01  153.127731\n",
              "2005-08-02  153.512405\n",
              "2005-08-03  153.786087"
            ],
            "text/html": [
              "\n",
              "  <div id=\"df-9f52a9ba-2c6b-41b9-b476-26bf52ee3756\" class=\"colab-df-container\">\n",
              "    <div>\n",
              "<style scoped>\n",
              "    .dataframe tbody tr th:only-of-type {\n",
              "        vertical-align: middle;\n",
              "    }\n",
              "\n",
              "    .dataframe tbody tr th {\n",
              "        vertical-align: top;\n",
              "    }\n",
              "\n",
              "    .dataframe thead th {\n",
              "        text-align: right;\n",
              "    }\n",
              "</style>\n",
              "<table border=\"1\" class=\"dataframe\">\n",
              "  <thead>\n",
              "    <tr style=\"text-align: right;\">\n",
              "      <th></th>\n",
              "      <th>Open</th>\n",
              "    </tr>\n",
              "  </thead>\n",
              "  <tbody>\n",
              "    <tr>\n",
              "      <th>2005-08-01</th>\n",
              "      <td>153.127731</td>\n",
              "    </tr>\n",
              "    <tr>\n",
              "      <th>2005-08-02</th>\n",
              "      <td>153.512405</td>\n",
              "    </tr>\n",
              "    <tr>\n",
              "      <th>2005-08-03</th>\n",
              "      <td>153.786087</td>\n",
              "    </tr>\n",
              "  </tbody>\n",
              "</table>\n",
              "</div>\n",
              "    <div class=\"colab-df-buttons\">\n",
              "\n",
              "  <div class=\"colab-df-container\">\n",
              "    <button class=\"colab-df-convert\" onclick=\"convertToInteractive('df-9f52a9ba-2c6b-41b9-b476-26bf52ee3756')\"\n",
              "            title=\"Convert this dataframe to an interactive table.\"\n",
              "            style=\"display:none;\">\n",
              "\n",
              "  <svg xmlns=\"http://www.w3.org/2000/svg\" height=\"24px\" viewBox=\"0 -960 960 960\">\n",
              "    <path d=\"M120-120v-720h720v720H120Zm60-500h600v-160H180v160Zm220 220h160v-160H400v160Zm0 220h160v-160H400v160ZM180-400h160v-160H180v160Zm440 0h160v-160H620v160ZM180-180h160v-160H180v160Zm440 0h160v-160H620v160Z\"/>\n",
              "  </svg>\n",
              "    </button>\n",
              "\n",
              "  <style>\n",
              "    .colab-df-container {\n",
              "      display:flex;\n",
              "      gap: 12px;\n",
              "    }\n",
              "\n",
              "    .colab-df-convert {\n",
              "      background-color: #E8F0FE;\n",
              "      border: none;\n",
              "      border-radius: 50%;\n",
              "      cursor: pointer;\n",
              "      display: none;\n",
              "      fill: #1967D2;\n",
              "      height: 32px;\n",
              "      padding: 0 0 0 0;\n",
              "      width: 32px;\n",
              "    }\n",
              "\n",
              "    .colab-df-convert:hover {\n",
              "      background-color: #E2EBFA;\n",
              "      box-shadow: 0px 1px 2px rgba(60, 64, 67, 0.3), 0px 1px 3px 1px rgba(60, 64, 67, 0.15);\n",
              "      fill: #174EA6;\n",
              "    }\n",
              "\n",
              "    .colab-df-buttons div {\n",
              "      margin-bottom: 4px;\n",
              "    }\n",
              "\n",
              "    [theme=dark] .colab-df-convert {\n",
              "      background-color: #3B4455;\n",
              "      fill: #D2E3FC;\n",
              "    }\n",
              "\n",
              "    [theme=dark] .colab-df-convert:hover {\n",
              "      background-color: #434B5C;\n",
              "      box-shadow: 0px 1px 3px 1px rgba(0, 0, 0, 0.15);\n",
              "      filter: drop-shadow(0px 1px 2px rgba(0, 0, 0, 0.3));\n",
              "      fill: #FFFFFF;\n",
              "    }\n",
              "  </style>\n",
              "\n",
              "    <script>\n",
              "      const buttonEl =\n",
              "        document.querySelector('#df-9f52a9ba-2c6b-41b9-b476-26bf52ee3756 button.colab-df-convert');\n",
              "      buttonEl.style.display =\n",
              "        google.colab.kernel.accessAllowed ? 'block' : 'none';\n",
              "\n",
              "      async function convertToInteractive(key) {\n",
              "        const element = document.querySelector('#df-9f52a9ba-2c6b-41b9-b476-26bf52ee3756');\n",
              "        const dataTable =\n",
              "          await google.colab.kernel.invokeFunction('convertToInteractive',\n",
              "                                                    [key], {});\n",
              "        if (!dataTable) return;\n",
              "\n",
              "        const docLinkHtml = 'Like what you see? Visit the ' +\n",
              "          '<a target=\"_blank\" href=https://colab.research.google.com/notebooks/data_table.ipynb>data table notebook</a>'\n",
              "          + ' to learn more about interactive tables.';\n",
              "        element.innerHTML = '';\n",
              "        dataTable['output_type'] = 'display_data';\n",
              "        await google.colab.output.renderOutput(dataTable, element);\n",
              "        const docLink = document.createElement('div');\n",
              "        docLink.innerHTML = docLinkHtml;\n",
              "        element.appendChild(docLink);\n",
              "      }\n",
              "    </script>\n",
              "  </div>\n",
              "\n",
              "\n",
              "<div id=\"df-d4d38d9a-99e9-4944-ab21-6e788f47eb3b\">\n",
              "  <button class=\"colab-df-quickchart\" onclick=\"quickchart('df-d4d38d9a-99e9-4944-ab21-6e788f47eb3b')\"\n",
              "            title=\"Suggest charts\"\n",
              "            style=\"display:none;\">\n",
              "\n",
              "<svg xmlns=\"http://www.w3.org/2000/svg\" height=\"24px\"viewBox=\"0 0 24 24\"\n",
              "     width=\"24px\">\n",
              "    <g>\n",
              "        <path d=\"M19 3H5c-1.1 0-2 .9-2 2v14c0 1.1.9 2 2 2h14c1.1 0 2-.9 2-2V5c0-1.1-.9-2-2-2zM9 17H7v-7h2v7zm4 0h-2V7h2v10zm4 0h-2v-4h2v4z\"/>\n",
              "    </g>\n",
              "</svg>\n",
              "  </button>\n",
              "\n",
              "<style>\n",
              "  .colab-df-quickchart {\n",
              "      --bg-color: #E8F0FE;\n",
              "      --fill-color: #1967D2;\n",
              "      --hover-bg-color: #E2EBFA;\n",
              "      --hover-fill-color: #174EA6;\n",
              "      --disabled-fill-color: #AAA;\n",
              "      --disabled-bg-color: #DDD;\n",
              "  }\n",
              "\n",
              "  [theme=dark] .colab-df-quickchart {\n",
              "      --bg-color: #3B4455;\n",
              "      --fill-color: #D2E3FC;\n",
              "      --hover-bg-color: #434B5C;\n",
              "      --hover-fill-color: #FFFFFF;\n",
              "      --disabled-bg-color: #3B4455;\n",
              "      --disabled-fill-color: #666;\n",
              "  }\n",
              "\n",
              "  .colab-df-quickchart {\n",
              "    background-color: var(--bg-color);\n",
              "    border: none;\n",
              "    border-radius: 50%;\n",
              "    cursor: pointer;\n",
              "    display: none;\n",
              "    fill: var(--fill-color);\n",
              "    height: 32px;\n",
              "    padding: 0;\n",
              "    width: 32px;\n",
              "  }\n",
              "\n",
              "  .colab-df-quickchart:hover {\n",
              "    background-color: var(--hover-bg-color);\n",
              "    box-shadow: 0 1px 2px rgba(60, 64, 67, 0.3), 0 1px 3px 1px rgba(60, 64, 67, 0.15);\n",
              "    fill: var(--button-hover-fill-color);\n",
              "  }\n",
              "\n",
              "  .colab-df-quickchart-complete:disabled,\n",
              "  .colab-df-quickchart-complete:disabled:hover {\n",
              "    background-color: var(--disabled-bg-color);\n",
              "    fill: var(--disabled-fill-color);\n",
              "    box-shadow: none;\n",
              "  }\n",
              "\n",
              "  .colab-df-spinner {\n",
              "    border: 2px solid var(--fill-color);\n",
              "    border-color: transparent;\n",
              "    border-bottom-color: var(--fill-color);\n",
              "    animation:\n",
              "      spin 1s steps(1) infinite;\n",
              "  }\n",
              "\n",
              "  @keyframes spin {\n",
              "    0% {\n",
              "      border-color: transparent;\n",
              "      border-bottom-color: var(--fill-color);\n",
              "      border-left-color: var(--fill-color);\n",
              "    }\n",
              "    20% {\n",
              "      border-color: transparent;\n",
              "      border-left-color: var(--fill-color);\n",
              "      border-top-color: var(--fill-color);\n",
              "    }\n",
              "    30% {\n",
              "      border-color: transparent;\n",
              "      border-left-color: var(--fill-color);\n",
              "      border-top-color: var(--fill-color);\n",
              "      border-right-color: var(--fill-color);\n",
              "    }\n",
              "    40% {\n",
              "      border-color: transparent;\n",
              "      border-right-color: var(--fill-color);\n",
              "      border-top-color: var(--fill-color);\n",
              "    }\n",
              "    60% {\n",
              "      border-color: transparent;\n",
              "      border-right-color: var(--fill-color);\n",
              "    }\n",
              "    80% {\n",
              "      border-color: transparent;\n",
              "      border-right-color: var(--fill-color);\n",
              "      border-bottom-color: var(--fill-color);\n",
              "    }\n",
              "    90% {\n",
              "      border-color: transparent;\n",
              "      border-bottom-color: var(--fill-color);\n",
              "    }\n",
              "  }\n",
              "</style>\n",
              "\n",
              "  <script>\n",
              "    async function quickchart(key) {\n",
              "      const quickchartButtonEl =\n",
              "        document.querySelector('#' + key + ' button');\n",
              "      quickchartButtonEl.disabled = true;  // To prevent multiple clicks.\n",
              "      quickchartButtonEl.classList.add('colab-df-spinner');\n",
              "      try {\n",
              "        const charts = await google.colab.kernel.invokeFunction(\n",
              "            'suggestCharts', [key], {});\n",
              "      } catch (error) {\n",
              "        console.error('Error during call to suggestCharts:', error);\n",
              "      }\n",
              "      quickchartButtonEl.classList.remove('colab-df-spinner');\n",
              "      quickchartButtonEl.classList.add('colab-df-quickchart-complete');\n",
              "    }\n",
              "    (() => {\n",
              "      let quickchartButtonEl =\n",
              "        document.querySelector('#df-d4d38d9a-99e9-4944-ab21-6e788f47eb3b button');\n",
              "      quickchartButtonEl.style.display =\n",
              "        google.colab.kernel.accessAllowed ? 'block' : 'none';\n",
              "    })();\n",
              "  </script>\n",
              "</div>\n",
              "\n",
              "    </div>\n",
              "  </div>\n"
            ],
            "application/vnd.google.colaboratory.intrinsic+json": {
              "type": "dataframe",
              "variable_name": "PREDICTION_TRAIN",
              "summary": "{\n  \"name\": \"PREDICTION_TRAIN\",\n  \"rows\": 3767,\n  \"fields\": [\n    {\n      \"column\": \"Open\",\n      \"properties\": {\n        \"dtype\": \"float32\",\n        \"num_unique_values\": 3766,\n        \"samples\": [\n          1097.492431640625,\n          868.8829956054688,\n          190.94847106933594\n        ],\n        \"semantic_type\": \"\",\n        \"description\": \"\"\n      }\n    }\n  ]\n}"
            }
          },
          "metadata": {},
          "execution_count": 11
        }
      ]
    },
    {
      "cell_type": "code",
      "source": [
        "## visualize the predictions\n",
        "from pylab import rcParams\n",
        "rcParams['figure.figsize'] = 14, 5\n",
        "\n",
        "# Plot parameters\n",
        "START_DATE_FOR_PLOTTING = '2012-06-01'\n",
        "\n",
        "plt.plot(PREDICTIONS_FUTURE.index, PREDICTIONS_FUTURE['Open'], color='r', label='Predicted Stock Price')\n",
        "plt.plot(PREDICTION_TRAIN.loc[START_DATE_FOR_PLOTTING:].index, PREDICTION_TRAIN.loc[START_DATE_FOR_PLOTTING:]['Open'], color='orange', label='Training predictions')\n",
        "plt.plot(dataset_train.loc[START_DATE_FOR_PLOTTING:].index, dataset_train.loc[START_DATE_FOR_PLOTTING:]['Open'], color='b', label='Actual Stock Price')\n",
        "\n",
        "plt.axvline(x = min(PREDICTIONS_FUTURE.index), color='green', linewidth=2, linestyle='--')\n",
        "\n",
        "plt.grid(which='major', color='#cccccc', alpha=0.5)\n",
        "\n",
        "plt.legend(shadow=True)\n",
        "plt.title('Predcitions and Acutal Stock Prices', fontsize=12)\n",
        "plt.xlabel('Timeline', fontsize=10)\n",
        "plt.ylabel('Stock Price Value', fontsize=10)\n",
        "plt.xticks(rotation=45, fontsize=8)\n",
        "plt.show()\n"
      ],
      "metadata": {
        "colab": {
          "base_uri": "https://localhost:8080/",
          "height": 370
        },
        "id": "98VwIWMIzjyp",
        "outputId": "85e98d93-77a2-4d3f-ab87-35aed49cc66d"
      },
      "execution_count": 15,
      "outputs": [
        {
          "output_type": "display_data",
          "data": {
            "text/plain": [
              "<Figure size 1400x500 with 1 Axes>"
            ],
            "image/png": "[encoded data removed]"
          },
          "metadata": {}
        }
      ]
    },
    {
      "cell_type": "code",
      "source": [
        "# Parse training set timestamp for better visualization\n",
        "dataset_train = pd.DataFrame(dataset_train, columns=cols)\n",
        "dataset_train.index = datelist_train\n",
        "dataset_train.index = pd.to_datetime(dataset_train.index)"
      ],
      "metadata": {
        "id": "VWSVP04a0DL7"
      },
      "execution_count": 14,
      "outputs": []
    }
  ]
}